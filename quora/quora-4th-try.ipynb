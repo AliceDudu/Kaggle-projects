{
 "cells": [
  {
   "cell_type": "markdown",
   "metadata": {},
   "source": [
    "https://www.kaggle.com/davidthaler/pandas-model-no-ml-lb-0-356/comments/notebook"
   ]
  },
  {
   "cell_type": "code",
   "execution_count": 1,
   "metadata": {
    "collapsed": true
   },
   "outputs": [],
   "source": [
    "import numpy as np\n",
    "import pandas as pd\n",
    "tr = pd.read_csv('/Users/galphen/Desktop/quora/train.csv')\n",
    "te = pd.read_csv('/Users/galphen/Desktop/quora/test.csv')\n",
    "from nltk.corpus import stopwords\n",
    "SCALE = 0.3627"
   ]
  },
  {
   "cell_type": "code",
   "execution_count": 2,
   "metadata": {
    "collapsed": true
   },
   "outputs": [],
   "source": [
    "def word_match_share(x):\n",
    "    '''\n",
    "    The much-loved word_match_share feature.\n",
    "\n",
    "    Args:\n",
    "        x: source data with question1/2\n",
    "        \n",
    "    Returns:\n",
    "        word_match_share as a pandas Series\n",
    "    '''\n",
    "    stops = set(stopwords.words('english'))\n",
    "    q1 = x.question1.fillna(' ').str.lower().str.split()\n",
    "    q2 = x.question2.fillna(' ').str.lower().str.split()\n",
    "    q1 = q1.map(lambda l : set(l) - stops)\n",
    "    q2 = q2.map(lambda l : set(l) - stops)\n",
    "    q = pd.DataFrame({'q1':q1, 'q2':q2})\n",
    "    q['len_inter'] = q.apply(lambda row : len(row['q1'] & row['q2']), axis=1)\n",
    "    q['len_tot'] = q.q1.map(len) + q.q2.map(len)\n",
    "    return (2 * q.len_inter / q.len_tot).fillna(0)"
   ]
  },
  {
   "cell_type": "code",
   "execution_count": 3,
   "metadata": {
    "collapsed": true
   },
   "outputs": [],
   "source": [
    "def bin_model(tr, te, bins=100, vpos=1, vss=3):\n",
    "    '''\n",
    "    Runs a Pandas table model using the word_match_share feature.\n",
    "    \n",
    "    Args:\n",
    "        tr: pandas DataFrame with question1/2 in it\n",
    "        te: test data frame\n",
    "        bins: word shares are rounded to whole numbers after multiplying by bins.\n",
    "        v_pos: number of virtual positives for smoothing (can be non-integer)\n",
    "        vss: virtual sample size for smoothing (can be non-integer)\n",
    "        \n",
    "    Returns:\n",
    "        submission in a Pandas Data Frame.\n",
    "    '''\n",
    "    tr['word_share'] = word_match_share(tr)\n",
    "    tr['binned_share'] = (bins * tr.word_share).round()\n",
    "    pos = tr.groupby('binned_share').is_duplicate.sum()\n",
    "    cts = tr.binned_share.value_counts()\n",
    "    te['word_share'] = word_match_share(te)\n",
    "    te['binned_share'] = (bins * te.word_share).round()\n",
    "    te_pos = te.binned_share.map(pos, na_action='ignore').fillna(0)\n",
    "    te_cts = te.binned_share.map(cts, na_action='ignore').fillna(0)\n",
    "    prob = (te_pos + vpos) / (te_cts + vss)\n",
    "    odds = prob / (1 - prob)\n",
    "    scaled_odds = SCALE * odds\n",
    "    scaled_prob = scaled_odds / (1 + scaled_odds)\n",
    "    sub = te[['test_id']].copy()\n",
    "    sub['is_duplicate'] = scaled_prob\n",
    "    return sub"
   ]
  },
  {
   "cell_type": "code",
   "execution_count": 5,
   "metadata": {
    "collapsed": false
   },
   "outputs": [
    {
     "data": {
      "text/html": [
       "<div>\n",
       "<table border=\"1\" class=\"dataframe\">\n",
       "  <thead>\n",
       "    <tr style=\"text-align: right;\">\n",
       "      <th></th>\n",
       "      <th>test_id</th>\n",
       "      <th>is_duplicate</th>\n",
       "    </tr>\n",
       "  </thead>\n",
       "  <tbody>\n",
       "    <tr>\n",
       "      <th>0</th>\n",
       "      <td>0</td>\n",
       "      <td>0.026873</td>\n",
       "    </tr>\n",
       "    <tr>\n",
       "      <th>1</th>\n",
       "      <td>1</td>\n",
       "      <td>0.335626</td>\n",
       "    </tr>\n",
       "    <tr>\n",
       "      <th>2</th>\n",
       "      <td>2</td>\n",
       "      <td>0.354446</td>\n",
       "    </tr>\n",
       "    <tr>\n",
       "      <th>3</th>\n",
       "      <td>3</td>\n",
       "      <td>0.000581</td>\n",
       "    </tr>\n",
       "    <tr>\n",
       "      <th>4</th>\n",
       "      <td>4</td>\n",
       "      <td>0.298065</td>\n",
       "    </tr>\n",
       "    <tr>\n",
       "      <th>5</th>\n",
       "      <td>5</td>\n",
       "      <td>0.018401</td>\n",
       "    </tr>\n",
       "    <tr>\n",
       "      <th>6</th>\n",
       "      <td>6</td>\n",
       "      <td>0.346403</td>\n",
       "    </tr>\n",
       "    <tr>\n",
       "      <th>7</th>\n",
       "      <td>7</td>\n",
       "      <td>0.294559</td>\n",
       "    </tr>\n",
       "    <tr>\n",
       "      <th>8</th>\n",
       "      <td>8</td>\n",
       "      <td>0.331933</td>\n",
       "    </tr>\n",
       "    <tr>\n",
       "      <th>9</th>\n",
       "      <td>9</td>\n",
       "      <td>0.004828</td>\n",
       "    </tr>\n",
       "  </tbody>\n",
       "</table>\n",
       "</div>"
      ],
      "text/plain": [
       "   test_id  is_duplicate\n",
       "0        0      0.026873\n",
       "1        1      0.335626\n",
       "2        2      0.354446\n",
       "3        3      0.000581\n",
       "4        4      0.298065\n",
       "5        5      0.018401\n",
       "6        6      0.346403\n",
       "7        7      0.294559\n",
       "8        8      0.331933\n",
       "9        9      0.004828"
      ]
     },
     "execution_count": 5,
     "metadata": {},
     "output_type": "execute_result"
    }
   ],
   "source": [
    "sub = bin_model(tr, te)\n",
    "sub.to_csv('no_ml_model.csv', index=False, float_format='%.6f')\n",
    "sub.head(10)"
   ]
  }
 ],
 "metadata": {
  "kernelspec": {
   "display_name": "Python 2",
   "language": "python",
   "name": "python2"
  },
  "language_info": {
   "codemirror_mode": {
    "name": "ipython",
    "version": 2
   },
   "file_extension": ".py",
   "mimetype": "text/x-python",
   "name": "python",
   "nbconvert_exporter": "python",
   "pygments_lexer": "ipython2",
   "version": "2.7.12"
  }
 },
 "nbformat": 4,
 "nbformat_minor": 0
}
